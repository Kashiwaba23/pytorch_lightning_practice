{
 "cells": [
  {
   "cell_type": "code",
   "execution_count": 35,
   "metadata": {},
   "outputs": [],
   "source": [
    "import torch\n",
    "import torchvision\n",
    "import lightning as L\n",
    "import os\n",
    "import matplotlib.pyplot as plt"
   ]
  },
  {
   "cell_type": "markdown",
   "metadata": {},
   "source": [
    "# Using Pytorch Lightning to Train CNN on MNIST Dataset"
   ]
  },
  {
   "cell_type": "code",
   "execution_count": 53,
   "metadata": {},
   "outputs": [],
   "source": [
    "dataset = torchvision.datasets.MNIST(os.getcwd(), download=True, transform=torchvision.transforms.ToTensor())"
   ]
  },
  {
   "cell_type": "markdown",
   "metadata": {},
   "source": [
    "Let's split the dataset into training, validation, and test splits."
   ]
  },
  {
   "cell_type": "code",
   "execution_count": 54,
   "metadata": {},
   "outputs": [],
   "source": [
    "generator = torch.Generator().manual_seed(42)\n",
    "train, val, test = torch.utils.data.random_split(dataset=dataset, lengths=[0.8, 0.1, 0.1], generator=generator)"
   ]
  },
  {
   "cell_type": "code",
   "execution_count": 58,
   "metadata": {},
   "outputs": [
    {
     "name": "stdout",
     "output_type": "stream",
     "text": [
      "Length of training dataset: 48000\n",
      " Length of validation dataset: 6000\n",
      "Length of test dataset: 6000\n"
     ]
    }
   ],
   "source": [
    "print(f'Length of training dataset: {len(train)}')\n",
    "print(f' Length of validation dataset: {len(val)}')\n",
    "print(f'Length of test dataset: {len(test)}')"
   ]
  },
  {
   "cell_type": "code",
   "execution_count": 56,
   "metadata": {},
   "outputs": [],
   "source": [
    "train_loader = torch.utils.data.DataLoader(train, batch_size=32, shuffle=True)\n",
    "validation_loader = torch.utils.data.DataLoader(val, batch_size=32, shuffle=True)\n",
    "test_loader = torch.utils.data.DataLoader(test, batch_size=32, shuffle=True)"
   ]
  },
  {
   "cell_type": "code",
   "execution_count": 61,
   "metadata": {},
   "outputs": [
    {
     "data": {
      "image/png": "[encoded data removed]",
      "text/plain": [
       "<Figure size 1200x700 with 4 Axes>"
      ]
     },
     "metadata": {},
     "output_type": "display_data"
    }
   ],
   "source": [
    "images, labels = next(iter(train_loader))\n",
    "images.shape\n",
    "fig, axes = plt.subplots(ncols=4, nrows=1, figsize=(12,7))\n",
    "axes[0].imshow(images[0].squeeze(), cmap='gray')\n",
    "axes[0].title.set_text(labels[0].item())\n",
    "axes[1].imshow(images[-1].squeeze(), cmap='gray')\n",
    "axes[1].title.set_text(labels[-1].item())\n",
    "axes[2].imshow(images[15].squeeze(), cmap='gray')\n",
    "axes[2].title.set_text(labels[15].item())\n",
    "axes[3].imshow(images[6].squeeze(), cmap='gray')\n",
    "axes[3].title.set_text(labels[6].item())"
   ]
  },
  {
   "cell_type": "markdown",
   "metadata": {},
   "source": [
    "# Define the model"
   ]
  },
  {
   "cell_type": "code",
   "execution_count": 79,
   "metadata": {},
   "outputs": [],
   "source": [
    "from typing import Any\n",
    "\n",
    "\n",
    "class DigitClassifier(L.LightningModule):\n",
    "    def __init__(self, num_channels, num_classes):\n",
    "        super().__init__()\n",
    "        self.conv1 = torch.nn.Conv2d(num_channels, 32, kernel_size=3, padding=1)\n",
    "        self.pool = torch.nn.MaxPool2d(2,2)\n",
    "        self.conv2 = torch.nn.Conv2d(32, 54, kernel_size=3, padding=1)\n",
    "        self.fc1 = torch.nn.Linear(54*7*7, 120)\n",
    "        self.fc2 = torch.nn.Linear(120, 84)\n",
    "        self.fc3 = torch.nn.Linear(84, num_classes)\n",
    "        self.loss_function = torch.nn.CrossEntropyLoss()\n",
    "\n",
    "    def forward(self, x):\n",
    "        x = torch.nn.functional.relu(self.conv1(x))\n",
    "        x = self.pool(x)\n",
    "        x = torch.nn.functional.relu(self.conv2(x))\n",
    "        x = self.pool(x)\n",
    "        #flatten tensor\n",
    "        x = x.view(-1, 54*7*7)\n",
    "        x = torch.nn.functional.relu(self.fc1(x))\n",
    "        x = torch.nn.functional.relu(self.fc2(x))\n",
    "        x = self.fc3(x)\n",
    "        return x\n",
    "\n",
    "    def training_step(self, batch, batch_idx):\n",
    "        # x, y = batch\n",
    "        # # flatten input tensor\n",
    "        # x = x.view(x.size(0), -1)\n",
    "        # scores = self.forward(x)\n",
    "        # loss = self.loss_function(scores, y)\n",
    "        loss, scores, y = self._common_step(batch, batch_idx)\n",
    "        # self.log is a built-in function inherited from the LightningModule object.\n",
    "        # It lets us keep track of certain metrics during training, etc.\n",
    "        self.log('training_loss', loss)\n",
    "        return loss\n",
    "\n",
    "    def validation_step(self, batch, batch_idx):\n",
    "        # # same as training step\n",
    "        # x, y = batch\n",
    "        # # flatten input tensor\n",
    "        # x = x.view(x.size(0), -1)\n",
    "        # scores = self.forward(x)\n",
    "        # loss = self.loss_function(scores, y)\n",
    "        loss, scores, y = self._common_step(batch, batch_idx)\n",
    "        return loss\n",
    "\n",
    "    def test_step(self, batch, batch_idx):\n",
    "        # # same as training step\n",
    "        # x, y = batch\n",
    "        # # flatten input tensor\n",
    "        # x = x.view(x.size(0), -1)\n",
    "        # scores = self.forward(x)\n",
    "        # loss = self.loss_function(scores, y)\n",
    "        loss, scores, y = self._common_step(batch, batch_idx)\n",
    "        self.log('test_loss', loss)\n",
    "        return loss\n",
    "\n",
    "    def _common_step(self, batch, batch_idx):\n",
    "        # same as training, val, and test, but combined into one for simplicity\n",
    "        x, y = batch\n",
    "        # flatten input tensor\n",
    "        #x = x.view(x.size(0), -1)\n",
    "        scores = self.forward(x)\n",
    "        loss = self.loss_function(scores, y)\n",
    "        return loss, scores, y\n",
    "\n",
    "    def predict_step(self, batch, batch_idx):\n",
    "        x, y = batch\n",
    "        x = x.view(x.size(0), -1)\n",
    "        scores = self.forward(x)\n",
    "        preds = torch.argmax(scores)\n",
    "        return preds\n",
    "\n",
    "\n",
    "    def configure_optimizers(self):\n",
    "        # you could also include a scheduler here\n",
    "        return torch.optim.Adam(self.parameters(), lr=0.001)"
   ]
  },
  {
   "cell_type": "code",
   "execution_count": 71,
   "metadata": {},
   "outputs": [
    {
     "data": {
      "text/plain": [
       "torch.Size([28, 28])"
      ]
     },
     "execution_count": 71,
     "metadata": {},
     "output_type": "execute_result"
    }
   ],
   "source": [
    "#images[0].view(28,28).size()"
   ]
  },
  {
   "cell_type": "code",
   "execution_count": 82,
   "metadata": {},
   "outputs": [],
   "source": [
    "model = DigitClassifier(num_channels=1, num_classes=10)"
   ]
  },
  {
   "cell_type": "code",
   "execution_count": 84,
   "metadata": {},
   "outputs": [
    {
     "name": "stdout",
     "output_type": "stream",
     "text": [
      "MPS Detected\n"
     ]
    }
   ],
   "source": [
    "if torch.backends.mps.is_available():\n",
    "    print('MPS Detected')\n",
    "else:\n",
    "    print('No MPS detected')"
   ]
  },
  {
   "cell_type": "code",
   "execution_count": 83,
   "metadata": {},
   "outputs": [
    {
     "name": "stderr",
     "output_type": "stream",
     "text": [
      "GPU available: True (mps), used: True\n",
      "TPU available: False, using: 0 TPU cores\n",
      "IPU available: False, using: 0 IPUs\n",
      "HPU available: False, using: 0 HPUs\n",
      "\n",
      "  | Name          | Type             | Params\n",
      "---------------------------------------------------\n",
      "0 | conv1         | Conv2d           | 320   \n",
      "1 | pool          | MaxPool2d        | 0     \n",
      "2 | conv2         | Conv2d           | 15.6 K\n",
      "3 | fc1           | Linear           | 317 K \n",
      "4 | fc2           | Linear           | 10.2 K\n",
      "5 | fc3           | Linear           | 850   \n",
      "6 | loss_function | CrossEntropyLoss | 0     \n",
      "---------------------------------------------------\n",
      "344 K     Trainable params\n",
      "0         Non-trainable params\n",
      "344 K     Total params\n",
      "1.378     Total estimated model params size (MB)\n"
     ]
    },
    {
     "name": "stdout",
     "output_type": "stream",
     "text": [
      "Epoch 7:  30%|███       | 455/1500 [00:04<00:10, 103.03it/s, v_num=2]      "
     ]
    }
   ],
   "source": [
    "trainer = L.Trainer(accelerator='gpu', min_epochs=1, max_epochs=20)\n",
    "trainer.fit(model, train_dataloaders=train_loader, val_dataloaders=validation_loader)"
   ]
  }
 ],
 "metadata": {
  "kernelspec": {
   "display_name": "pytorch_lightning",
   "language": "python",
   "name": "python3"
  },
  "language_info": {
   "codemirror_mode": {
    "name": "ipython",
    "version": 3
   },
   "file_extension": ".py",
   "mimetype": "text/x-python",
   "name": "python",
   "nbconvert_exporter": "python",
   "pygments_lexer": "ipython3",
   "version": "3.10.6"
  }
 },
 "nbformat": 4,
 "nbformat_minor": 2
}
