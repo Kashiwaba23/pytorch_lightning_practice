{
 "cells": [
  {
   "cell_type": "code",
   "execution_count": 98,
   "metadata": {},
   "outputs": [],
   "source": [
    "import torch\n",
    "import torchvision\n",
    "import torchmetrics\n",
    "import lightning as L\n",
    "import os\n",
    "import matplotlib.pyplot as plt\n",
    "import pandas as pd\n",
    "import seaborn as sns\n",
    "import numpy as np"
   ]
  },
  {
   "cell_type": "markdown",
   "metadata": {},
   "source": [
    "# Using Pytorch Lightning to Train CNN on MNIST Dataset"
   ]
  },
  {
   "cell_type": "code",
   "execution_count": 4,
   "metadata": {},
   "outputs": [],
   "source": [
    "dataset = torchvision.datasets.MNIST(os.getcwd(), download=True, transform=torchvision.transforms.ToTensor())"
   ]
  },
  {
   "cell_type": "markdown",
   "metadata": {},
   "source": [
    "Let's split the dataset into training, validation, and test splits."
   ]
  },
  {
   "cell_type": "code",
   "execution_count": 5,
   "metadata": {},
   "outputs": [],
   "source": [
    "generator = torch.Generator().manual_seed(42)\n",
    "train, val, test = torch.utils.data.random_split(dataset=dataset, lengths=[0.8, 0.1, 0.1], generator=generator)"
   ]
  },
  {
   "cell_type": "code",
   "execution_count": 6,
   "metadata": {},
   "outputs": [
    {
     "name": "stdout",
     "output_type": "stream",
     "text": [
      "Length of training dataset: 48000\n",
      " Length of validation dataset: 6000\n",
      "Length of test dataset: 6000\n"
     ]
    }
   ],
   "source": [
    "print(f'Length of training dataset: {len(train)}')\n",
    "print(f' Length of validation dataset: {len(val)}')\n",
    "print(f'Length of test dataset: {len(test)}')"
   ]
  },
  {
   "cell_type": "code",
   "execution_count": 215,
   "metadata": {},
   "outputs": [],
   "source": [
    "train_loader = torch.utils.data.DataLoader(train, batch_size=32, shuffle=True, num_workers=7)\n",
    "validation_loader = torch.utils.data.DataLoader(val, batch_size=32, shuffle=False, num_workers=7)\n",
    "test_loader = torch.utils.data.DataLoader(test, batch_size=32, shuffle=False, num_workers=7)"
   ]
  },
  {
   "cell_type": "code",
   "execution_count": 8,
   "metadata": {},
   "outputs": [
    {
     "data": {
      "image/png": "[encoded data removed]",
      "text/plain": [
       "<Figure size 1200x700 with 4 Axes>"
      ]
     },
     "metadata": {},
     "output_type": "display_data"
    }
   ],
   "source": [
    "images, labels = next(iter(train_loader))\n",
    "images.shape\n",
    "fig, axes = plt.subplots(ncols=4, nrows=1, figsize=(12,7))\n",
    "axes[0].imshow(images[0].squeeze(), cmap='gray')\n",
    "axes[0].title.set_text(labels[0].item())\n",
    "axes[1].imshow(images[-1].squeeze(), cmap='gray')\n",
    "axes[1].title.set_text(labels[-1].item())\n",
    "axes[2].imshow(images[15].squeeze(), cmap='gray')\n",
    "axes[2].title.set_text(labels[15].item())\n",
    "axes[3].imshow(images[6].squeeze(), cmap='gray')\n",
    "axes[3].title.set_text(labels[6].item())"
   ]
  },
  {
   "cell_type": "markdown",
   "metadata": {},
   "source": [
    "# Define the model"
   ]
  },
  {
   "cell_type": "code",
   "execution_count": 167,
   "metadata": {},
   "outputs": [],
   "source": [
    "\n",
    "class DigitClassifier(L.LightningModule):\n",
    "    def __init__(self, num_channels, num_classes):\n",
    "        super().__init__()\n",
    "        self.conv1 = torch.nn.Conv2d(num_channels, 32, kernel_size=3, padding=1)\n",
    "        self.pool = torch.nn.MaxPool2d(2,2)\n",
    "        self.conv2 = torch.nn.Conv2d(32, 54, kernel_size=3, padding=1)\n",
    "        self.fc1 = torch.nn.Linear(54*7*7, 120)\n",
    "        self.fc2 = torch.nn.Linear(120, 84)\n",
    "        self.fc3 = torch.nn.Linear(84, num_classes)\n",
    "        self.loss_function = torch.nn.CrossEntropyLoss()\n",
    "        self.accuracy = torchmetrics.classification.Accuracy(task='multiclass',\n",
    "                                                             num_classes=num_classes)\n",
    "        self.f1_score = torchmetrics.F1Score(task='multiclass', num_classes=num_classes)\n",
    "        self.test_step_outputs = []\n",
    "\n",
    "    def forward(self, x):\n",
    "        x = torch.nn.functional.relu(self.conv1(x))\n",
    "        x = self.pool(x)\n",
    "        x = torch.nn.functional.relu(self.conv2(x))\n",
    "        x = self.pool(x)\n",
    "        #flatten tensor\n",
    "        x = x.view(-1, 54*7*7)\n",
    "        x = torch.nn.functional.relu(self.fc1(x))\n",
    "        x = torch.nn.functional.relu(self.fc2(x))\n",
    "        x = self.fc3(x)\n",
    "        return x\n",
    "\n",
    "    def training_step(self, batch, batch_idx):\n",
    "        # x, y = batch\n",
    "        # # flatten input tensor\n",
    "        # x = x.view(x.size(0), -1)\n",
    "        # scores = self.forward(x)\n",
    "        # loss = self.loss_function(scores, y)\n",
    "        loss, scores, y = self._common_step(batch, batch_idx)\n",
    "        # self.log is a built-in function inherited from the LightningModule object.\n",
    "        # It lets us keep track of certain metrics during training, etc.\n",
    "        accuracy = self.accuracy(scores, y)\n",
    "        f1_score = self.f1_score(scores, y)\n",
    "        self.log_dict({'training_loss': loss, 'train_accuracy':accuracy, 'train_f1_score':f1_score},\n",
    "                      on_step=True, on_epoch=True, prog_bar=True, logger=True)\n",
    "        #self.log('training_loss', loss)\n",
    "        return loss\n",
    "\n",
    "    def validation_step(self, batch, batch_idx):\n",
    "        # # same as training step\n",
    "        # x, y = batch\n",
    "        # # flatten input tensor\n",
    "        # x = x.view(x.size(0), -1)\n",
    "        # scores = self.forward(x)\n",
    "        # loss = self.loss_function(scores, y)\n",
    "        loss, scores, y = self._common_step(batch, batch_idx)\n",
    "        accuracy = self.accuracy(scores, y)\n",
    "        f1_score = self.f1_score(scores, y)\n",
    "        self.log_dict({'val_loss': loss, 'val_accuracy':accuracy, 'val_f1_score':f1_score},\n",
    "                      on_step=False, on_epoch=True, prog_bar=True, logger=True)\n",
    "        #self.log('val_loss', loss, prog_bar=True)\n",
    "        return loss\n",
    "\n",
    "    def test_step(self, batch, batch_idx):\n",
    "        # # same as training step\n",
    "        # x, y = batch\n",
    "        # # flatten input tensor\n",
    "        # x = x.view(x.size(0), -1)\n",
    "        # scores = self.forward(x)\n",
    "        # loss = self.loss_function(scores, y)\n",
    "        loss, scores, y = self._common_step(batch, batch_idx)\n",
    "        accuracy = self.accuracy(scores, y)\n",
    "        f1_score = self.f1_score(scores, y)\n",
    "        #self.log('test_loss', loss)\n",
    "        self.log_dict({'test_loss': loss, 'test_accuracy':accuracy, 'test_f1_score':f1_score,},\n",
    "                       on_step=True, on_epoch=True, prog_bar=True, logger=True)\n",
    "        #outputs = {'loss':loss, 'test_scores': scores, 'test_labels': y}\n",
    "        return loss\n",
    "\n",
    "    def _common_step(self, batch, batch_idx):\n",
    "        # same as training, val, and test, but combined into one for simplicity\n",
    "        x, y = batch\n",
    "        scores = self.forward(x)\n",
    "        loss = self.loss_function(scores, y)\n",
    "        return loss, scores, y\n",
    "\n",
    "    def predict_step(self, batch, batch_idx):\n",
    "        x, y = batch\n",
    "        #x = x.view(x.size(0), -1)\n",
    "        scores = self.forward(x)\n",
    "        preds = torch.argmax(scores, dim=1)\n",
    "        return preds\n",
    "\n",
    "\n",
    "    def configure_optimizers(self):\n",
    "        # you could also include a scheduler here\n",
    "        return torch.optim.Adam(self.parameters(), lr=0.001)"
   ]
  },
  {
   "cell_type": "code",
   "execution_count": 71,
   "metadata": {},
   "outputs": [
    {
     "data": {
      "text/plain": [
       "torch.Size([28, 28])"
      ]
     },
     "execution_count": 71,
     "metadata": {},
     "output_type": "execute_result"
    }
   ],
   "source": [
    "#images[0].view(28,28).size()"
   ]
  },
  {
   "cell_type": "code",
   "execution_count": 113,
   "metadata": {},
   "outputs": [],
   "source": [
    "model = DigitClassifier(num_channels=1, num_classes=10)"
   ]
  },
  {
   "cell_type": "code",
   "execution_count": 105,
   "metadata": {},
   "outputs": [
    {
     "name": "stdout",
     "output_type": "stream",
     "text": [
      "MPS Detected\n"
     ]
    }
   ],
   "source": [
    "if torch.backends.mps.is_available():\n",
    "    print('MPS Detected')\n",
    "else:\n",
    "    print('No MPS detected')"
   ]
  },
  {
   "cell_type": "code",
   "execution_count": 114,
   "metadata": {},
   "outputs": [
    {
     "name": "stderr",
     "output_type": "stream",
     "text": [
      "GPU available: True (mps), used: True\n",
      "TPU available: False, using: 0 TPU cores\n",
      "IPU available: False, using: 0 IPUs\n"
     ]
    },
    {
     "name": "stderr",
     "output_type": "stream",
     "text": [
      "HPU available: False, using: 0 HPUs\n",
      "\n",
      "  | Name          | Type                      | Params\n",
      "------------------------------------------------------------\n",
      "0 | conv1         | Conv2d                    | 320   \n",
      "1 | pool          | MaxPool2d                 | 0     \n",
      "2 | conv2         | Conv2d                    | 15.6 K\n",
      "3 | fc1           | Linear                    | 317 K \n",
      "4 | fc2           | Linear                    | 10.2 K\n",
      "5 | fc3           | Linear                    | 850   \n",
      "6 | loss_function | CrossEntropyLoss          | 0     \n",
      "7 | accuracy      | MulticlassAccuracy        | 0     \n",
      "8 | f1_score      | MulticlassF1Score         | 0     \n",
      "9 | confusion_mat | MulticlassConfusionMatrix | 0     \n",
      "------------------------------------------------------------\n",
      "344 K     Trainable params\n",
      "0         Non-trainable params\n",
      "344 K     Total params\n",
      "1.378     Total estimated model params size (MB)\n"
     ]
    },
    {
     "name": "stdout",
     "output_type": "stream",
     "text": [
      "Sanity Checking: |          | 0/? [00:00<?, ?it/s]"
     ]
    },
    {
     "name": "stderr",
     "output_type": "stream",
     "text": [
      "/Users/ryantenbarge/.pyenv/versions/3.10.6/envs/pytorch_lightning/lib/python3.10/site-packages/lightning/pytorch/trainer/connectors/data_connector.py:436: Consider setting `persistent_workers=True` in 'val_dataloader' to speed up the dataloader worker initialization.\n"
     ]
    },
    {
     "name": "stdout",
     "output_type": "stream",
     "text": [
      "                                                                           \r"
     ]
    },
    {
     "name": "stderr",
     "output_type": "stream",
     "text": [
      "/Users/ryantenbarge/.pyenv/versions/3.10.6/envs/pytorch_lightning/lib/python3.10/site-packages/lightning/pytorch/trainer/connectors/data_connector.py:436: Consider setting `persistent_workers=True` in 'train_dataloader' to speed up the dataloader worker initialization.\n"
     ]
    },
    {
     "name": "stdout",
     "output_type": "stream",
     "text": [
      "Epoch 3: 100%|██████████| 1500/1500 [00:32<00:00, 45.53it/s, v_num=8, training_loss_step=0.101, train_accuracy_step=0.969, train_f1_score_step=0.969, val_loss=0.0431, val_accuracy=0.987, val_f1_score=0.987, training_loss_epoch=0.0318, train_accuracy_epoch=0.989, train_f1_score_epoch=0.989]   "
     ]
    },
    {
     "name": "stderr",
     "output_type": "stream",
     "text": [
      "`Trainer.fit` stopped: `max_epochs=4` reached.\n"
     ]
    },
    {
     "name": "stdout",
     "output_type": "stream",
     "text": [
      "Epoch 3: 100%|██████████| 1500/1500 [00:32<00:00, 45.50it/s, v_num=8, training_loss_step=0.101, train_accuracy_step=0.969, train_f1_score_step=0.969, val_loss=0.0431, val_accuracy=0.987, val_f1_score=0.987, training_loss_epoch=0.0318, train_accuracy_epoch=0.989, train_f1_score_epoch=0.989]\n"
     ]
    }
   ],
   "source": [
    "trainer = L.Trainer(accelerator='mps', min_epochs=1, max_epochs=4, check_val_every_n_epoch=1)\n",
    "trainer.fit(model, train_dataloaders=train_loader, val_dataloaders=validation_loader)"
   ]
  },
  {
   "cell_type": "code",
   "execution_count": 115,
   "metadata": {},
   "outputs": [
    {
     "data": {
      "text/html": [
       "<div>\n",
       "<style scoped>\n",
       "    .dataframe tbody tr th:only-of-type {\n",
       "        vertical-align: middle;\n",
       "    }\n",
       "\n",
       "    .dataframe tbody tr th {\n",
       "        vertical-align: top;\n",
       "    }\n",
       "\n",
       "    .dataframe thead th {\n",
       "        text-align: right;\n",
       "    }\n",
       "</style>\n",
       "<table border=\"1\" class=\"dataframe\">\n",
       "  <thead>\n",
       "    <tr style=\"text-align: right;\">\n",
       "      <th></th>\n",
       "      <th>epoch</th>\n",
       "      <th>step</th>\n",
       "      <th>train_accuracy_epoch</th>\n",
       "      <th>train_accuracy_step</th>\n",
       "      <th>train_f1_score_epoch</th>\n",
       "      <th>train_f1_score_step</th>\n",
       "      <th>training_loss_epoch</th>\n",
       "      <th>training_loss_step</th>\n",
       "      <th>val_accuracy</th>\n",
       "      <th>val_f1_score</th>\n",
       "      <th>val_loss</th>\n",
       "    </tr>\n",
       "  </thead>\n",
       "  <tbody>\n",
       "    <tr>\n",
       "      <th>0</th>\n",
       "      <td>0</td>\n",
       "      <td>49</td>\n",
       "      <td>NaN</td>\n",
       "      <td>0.65625</td>\n",
       "      <td>NaN</td>\n",
       "      <td>0.65625</td>\n",
       "      <td>NaN</td>\n",
       "      <td>0.946451</td>\n",
       "      <td>NaN</td>\n",
       "      <td>NaN</td>\n",
       "      <td>NaN</td>\n",
       "    </tr>\n",
       "    <tr>\n",
       "      <th>1</th>\n",
       "      <td>0</td>\n",
       "      <td>99</td>\n",
       "      <td>NaN</td>\n",
       "      <td>0.90625</td>\n",
       "      <td>NaN</td>\n",
       "      <td>0.90625</td>\n",
       "      <td>NaN</td>\n",
       "      <td>0.247330</td>\n",
       "      <td>NaN</td>\n",
       "      <td>NaN</td>\n",
       "      <td>NaN</td>\n",
       "    </tr>\n",
       "    <tr>\n",
       "      <th>2</th>\n",
       "      <td>0</td>\n",
       "      <td>149</td>\n",
       "      <td>NaN</td>\n",
       "      <td>0.90625</td>\n",
       "      <td>NaN</td>\n",
       "      <td>0.90625</td>\n",
       "      <td>NaN</td>\n",
       "      <td>0.342587</td>\n",
       "      <td>NaN</td>\n",
       "      <td>NaN</td>\n",
       "      <td>NaN</td>\n",
       "    </tr>\n",
       "    <tr>\n",
       "      <th>3</th>\n",
       "      <td>0</td>\n",
       "      <td>199</td>\n",
       "      <td>NaN</td>\n",
       "      <td>0.96875</td>\n",
       "      <td>NaN</td>\n",
       "      <td>0.96875</td>\n",
       "      <td>NaN</td>\n",
       "      <td>0.161464</td>\n",
       "      <td>NaN</td>\n",
       "      <td>NaN</td>\n",
       "      <td>NaN</td>\n",
       "    </tr>\n",
       "    <tr>\n",
       "      <th>4</th>\n",
       "      <td>0</td>\n",
       "      <td>249</td>\n",
       "      <td>NaN</td>\n",
       "      <td>0.81250</td>\n",
       "      <td>NaN</td>\n",
       "      <td>0.81250</td>\n",
       "      <td>NaN</td>\n",
       "      <td>0.577978</td>\n",
       "      <td>NaN</td>\n",
       "      <td>NaN</td>\n",
       "      <td>NaN</td>\n",
       "    </tr>\n",
       "    <tr>\n",
       "      <th>...</th>\n",
       "      <td>...</td>\n",
       "      <td>...</td>\n",
       "      <td>...</td>\n",
       "      <td>...</td>\n",
       "      <td>...</td>\n",
       "      <td>...</td>\n",
       "      <td>...</td>\n",
       "      <td>...</td>\n",
       "      <td>...</td>\n",
       "      <td>...</td>\n",
       "      <td>...</td>\n",
       "    </tr>\n",
       "    <tr>\n",
       "      <th>123</th>\n",
       "      <td>3</td>\n",
       "      <td>5899</td>\n",
       "      <td>NaN</td>\n",
       "      <td>1.00000</td>\n",
       "      <td>NaN</td>\n",
       "      <td>1.00000</td>\n",
       "      <td>NaN</td>\n",
       "      <td>0.005849</td>\n",
       "      <td>NaN</td>\n",
       "      <td>NaN</td>\n",
       "      <td>NaN</td>\n",
       "    </tr>\n",
       "    <tr>\n",
       "      <th>124</th>\n",
       "      <td>3</td>\n",
       "      <td>5949</td>\n",
       "      <td>NaN</td>\n",
       "      <td>1.00000</td>\n",
       "      <td>NaN</td>\n",
       "      <td>1.00000</td>\n",
       "      <td>NaN</td>\n",
       "      <td>0.001007</td>\n",
       "      <td>NaN</td>\n",
       "      <td>NaN</td>\n",
       "      <td>NaN</td>\n",
       "    </tr>\n",
       "    <tr>\n",
       "      <th>125</th>\n",
       "      <td>3</td>\n",
       "      <td>5999</td>\n",
       "      <td>NaN</td>\n",
       "      <td>0.96875</td>\n",
       "      <td>NaN</td>\n",
       "      <td>0.96875</td>\n",
       "      <td>NaN</td>\n",
       "      <td>0.101350</td>\n",
       "      <td>NaN</td>\n",
       "      <td>NaN</td>\n",
       "      <td>NaN</td>\n",
       "    </tr>\n",
       "    <tr>\n",
       "      <th>126</th>\n",
       "      <td>3</td>\n",
       "      <td>5999</td>\n",
       "      <td>NaN</td>\n",
       "      <td>NaN</td>\n",
       "      <td>NaN</td>\n",
       "      <td>NaN</td>\n",
       "      <td>NaN</td>\n",
       "      <td>NaN</td>\n",
       "      <td>0.986667</td>\n",
       "      <td>0.986667</td>\n",
       "      <td>0.04308</td>\n",
       "    </tr>\n",
       "    <tr>\n",
       "      <th>127</th>\n",
       "      <td>3</td>\n",
       "      <td>5999</td>\n",
       "      <td>0.989438</td>\n",
       "      <td>NaN</td>\n",
       "      <td>0.989438</td>\n",
       "      <td>NaN</td>\n",
       "      <td>0.031809</td>\n",
       "      <td>NaN</td>\n",
       "      <td>NaN</td>\n",
       "      <td>NaN</td>\n",
       "      <td>NaN</td>\n",
       "    </tr>\n",
       "  </tbody>\n",
       "</table>\n",
       "<p>128 rows × 11 columns</p>\n",
       "</div>"
      ],
      "text/plain": [
       "     epoch  step  train_accuracy_epoch  train_accuracy_step  \\\n",
       "0        0    49                   NaN              0.65625   \n",
       "1        0    99                   NaN              0.90625   \n",
       "2        0   149                   NaN              0.90625   \n",
       "3        0   199                   NaN              0.96875   \n",
       "4        0   249                   NaN              0.81250   \n",
       "..     ...   ...                   ...                  ...   \n",
       "123      3  5899                   NaN              1.00000   \n",
       "124      3  5949                   NaN              1.00000   \n",
       "125      3  5999                   NaN              0.96875   \n",
       "126      3  5999                   NaN                  NaN   \n",
       "127      3  5999              0.989438                  NaN   \n",
       "\n",
       "     train_f1_score_epoch  train_f1_score_step  training_loss_epoch  \\\n",
       "0                     NaN              0.65625                  NaN   \n",
       "1                     NaN              0.90625                  NaN   \n",
       "2                     NaN              0.90625                  NaN   \n",
       "3                     NaN              0.96875                  NaN   \n",
       "4                     NaN              0.81250                  NaN   \n",
       "..                    ...                  ...                  ...   \n",
       "123                   NaN              1.00000                  NaN   \n",
       "124                   NaN              1.00000                  NaN   \n",
       "125                   NaN              0.96875                  NaN   \n",
       "126                   NaN                  NaN                  NaN   \n",
       "127              0.989438                  NaN             0.031809   \n",
       "\n",
       "     training_loss_step  val_accuracy  val_f1_score  val_loss  \n",
       "0              0.946451           NaN           NaN       NaN  \n",
       "1              0.247330           NaN           NaN       NaN  \n",
       "2              0.342587           NaN           NaN       NaN  \n",
       "3              0.161464           NaN           NaN       NaN  \n",
       "4              0.577978           NaN           NaN       NaN  \n",
       "..                  ...           ...           ...       ...  \n",
       "123            0.005849           NaN           NaN       NaN  \n",
       "124            0.001007           NaN           NaN       NaN  \n",
       "125            0.101350           NaN           NaN       NaN  \n",
       "126                 NaN      0.986667      0.986667   0.04308  \n",
       "127                 NaN           NaN           NaN       NaN  \n",
       "\n",
       "[128 rows x 11 columns]"
      ]
     },
     "execution_count": 115,
     "metadata": {},
     "output_type": "execute_result"
    }
   ],
   "source": [
    "log_dict_logs_df = pd.read_csv('/Users/ryantenbarge/code/playground/pytorch_lightning_practice/lightning_logs/version_8/metrics.csv')\n",
    "log_dict_logs_df"
   ]
  },
  {
   "cell_type": "code",
   "execution_count": 121,
   "metadata": {},
   "outputs": [
    {
     "data": {
      "text/html": [
       "<div>\n",
       "<style scoped>\n",
       "    .dataframe tbody tr th:only-of-type {\n",
       "        vertical-align: middle;\n",
       "    }\n",
       "\n",
       "    .dataframe tbody tr th {\n",
       "        vertical-align: top;\n",
       "    }\n",
       "\n",
       "    .dataframe thead th {\n",
       "        text-align: right;\n",
       "    }\n",
       "</style>\n",
       "<table border=\"1\" class=\"dataframe\">\n",
       "  <thead>\n",
       "    <tr style=\"text-align: right;\">\n",
       "      <th></th>\n",
       "      <th>epoch</th>\n",
       "      <th>train_accuracy_epoch</th>\n",
       "    </tr>\n",
       "  </thead>\n",
       "  <tbody>\n",
       "    <tr>\n",
       "      <th>31</th>\n",
       "      <td>0</td>\n",
       "      <td>0.930833</td>\n",
       "    </tr>\n",
       "    <tr>\n",
       "      <th>63</th>\n",
       "      <td>1</td>\n",
       "      <td>0.981333</td>\n",
       "    </tr>\n",
       "    <tr>\n",
       "      <th>95</th>\n",
       "      <td>2</td>\n",
       "      <td>0.986854</td>\n",
       "    </tr>\n",
       "    <tr>\n",
       "      <th>127</th>\n",
       "      <td>3</td>\n",
       "      <td>0.989438</td>\n",
       "    </tr>\n",
       "  </tbody>\n",
       "</table>\n",
       "</div>"
      ],
      "text/plain": [
       "     epoch  train_accuracy_epoch\n",
       "31       0              0.930833\n",
       "63       1              0.981333\n",
       "95       2              0.986854\n",
       "127      3              0.989438"
      ]
     },
     "execution_count": 121,
     "metadata": {},
     "output_type": "execute_result"
    }
   ],
   "source": [
    "train_acc_df = log_dict_logs_df[~log_dict_logs_df['train_accuracy_epoch'].isna()][['epoch', 'train_accuracy_epoch']]\n",
    "val_acc_df = log_dict_logs_df[~log_dict_logs_df['val_accuracy'].isna()][['epoch', 'val_accuracy']]\n",
    "val_acc_df\n",
    "train_acc_df"
   ]
  },
  {
   "cell_type": "code",
   "execution_count": 124,
   "metadata": {},
   "outputs": [
    {
     "data": {
      "text/plain": [
       "Text(0.5, 1.0, 'Model Accuracy Over Epoch')"
      ]
     },
     "execution_count": 124,
     "metadata": {},
     "output_type": "execute_result"
    },
    {
     "data": {
      "image/png": "[encoded data removed]",
      "text/plain": [
       "<Figure size 1200x700 with 1 Axes>"
      ]
     },
     "metadata": {},
     "output_type": "display_data"
    }
   ],
   "source": [
    "plt.figure(figsize=(12,7))\n",
    "sns.lineplot(data=train_acc_df, x='epoch', y='train_accuracy_epoch', label='train')\n",
    "sns.lineplot(data=val_acc_df, x='epoch', y='val_accuracy', label='val')\n",
    "plt.title('Model Accuracy Over Epoch')"
   ]
  },
  {
   "cell_type": "markdown",
   "metadata": {},
   "source": [
    "# View Training Loss"
   ]
  },
  {
   "cell_type": "code",
   "execution_count": 89,
   "metadata": {},
   "outputs": [
    {
     "data": {
      "text/html": [
       "<div>\n",
       "<style scoped>\n",
       "    .dataframe tbody tr th:only-of-type {\n",
       "        vertical-align: middle;\n",
       "    }\n",
       "\n",
       "    .dataframe tbody tr th {\n",
       "        vertical-align: top;\n",
       "    }\n",
       "\n",
       "    .dataframe thead th {\n",
       "        text-align: right;\n",
       "    }\n",
       "</style>\n",
       "<table border=\"1\" class=\"dataframe\">\n",
       "  <thead>\n",
       "    <tr style=\"text-align: right;\">\n",
       "      <th></th>\n",
       "      <th>epoch</th>\n",
       "      <th>step</th>\n",
       "      <th>training_loss</th>\n",
       "      <th>val_loss</th>\n",
       "    </tr>\n",
       "  </thead>\n",
       "  <tbody>\n",
       "    <tr>\n",
       "      <th>0</th>\n",
       "      <td>0</td>\n",
       "      <td>49</td>\n",
       "      <td>1.073526</td>\n",
       "      <td>NaN</td>\n",
       "    </tr>\n",
       "    <tr>\n",
       "      <th>1</th>\n",
       "      <td>0</td>\n",
       "      <td>99</td>\n",
       "      <td>0.261219</td>\n",
       "      <td>NaN</td>\n",
       "    </tr>\n",
       "    <tr>\n",
       "      <th>2</th>\n",
       "      <td>0</td>\n",
       "      <td>149</td>\n",
       "      <td>0.470168</td>\n",
       "      <td>NaN</td>\n",
       "    </tr>\n",
       "    <tr>\n",
       "      <th>3</th>\n",
       "      <td>0</td>\n",
       "      <td>199</td>\n",
       "      <td>0.292731</td>\n",
       "      <td>NaN</td>\n",
       "    </tr>\n",
       "    <tr>\n",
       "      <th>4</th>\n",
       "      <td>0</td>\n",
       "      <td>249</td>\n",
       "      <td>0.126708</td>\n",
       "      <td>NaN</td>\n",
       "    </tr>\n",
       "  </tbody>\n",
       "</table>\n",
       "</div>"
      ],
      "text/plain": [
       "   epoch  step  training_loss  val_loss\n",
       "0      0    49       1.073526       NaN\n",
       "1      0    99       0.261219       NaN\n",
       "2      0   149       0.470168       NaN\n",
       "3      0   199       0.292731       NaN\n",
       "4      0   249       0.126708       NaN"
      ]
     },
     "execution_count": 89,
     "metadata": {},
     "output_type": "execute_result"
    }
   ],
   "source": [
    "training_loss_df = pd.read_csv(os.path.join(os.getcwd(), 'lightning_logs', 'version_7', 'metrics.csv'))\n",
    "training_loss_df.head()"
   ]
  },
  {
   "cell_type": "code",
   "execution_count": 90,
   "metadata": {},
   "outputs": [
    {
     "data": {
      "text/plain": [
       "(450, 4)"
      ]
     },
     "execution_count": 90,
     "metadata": {},
     "output_type": "execute_result"
    }
   ],
   "source": [
    "training_losses = training_loss_df[~training_loss_df['training_loss'].isna()]\n",
    "training_losses.shape"
   ]
  },
  {
   "cell_type": "code",
   "execution_count": 91,
   "metadata": {},
   "outputs": [
    {
     "data": {
      "text/html": [
       "<div>\n",
       "<style scoped>\n",
       "    .dataframe tbody tr th:only-of-type {\n",
       "        vertical-align: middle;\n",
       "    }\n",
       "\n",
       "    .dataframe tbody tr th {\n",
       "        vertical-align: top;\n",
       "    }\n",
       "\n",
       "    .dataframe thead th {\n",
       "        text-align: right;\n",
       "    }\n",
       "</style>\n",
       "<table border=\"1\" class=\"dataframe\">\n",
       "  <thead>\n",
       "    <tr style=\"text-align: right;\">\n",
       "      <th></th>\n",
       "      <th>epoch</th>\n",
       "      <th>val_loss</th>\n",
       "    </tr>\n",
       "  </thead>\n",
       "  <tbody>\n",
       "    <tr>\n",
       "      <th>30</th>\n",
       "      <td>0</td>\n",
       "      <td>0.066851</td>\n",
       "    </tr>\n",
       "    <tr>\n",
       "      <th>61</th>\n",
       "      <td>1</td>\n",
       "      <td>0.048563</td>\n",
       "    </tr>\n",
       "    <tr>\n",
       "      <th>92</th>\n",
       "      <td>2</td>\n",
       "      <td>0.044698</td>\n",
       "    </tr>\n",
       "    <tr>\n",
       "      <th>123</th>\n",
       "      <td>3</td>\n",
       "      <td>0.045582</td>\n",
       "    </tr>\n",
       "    <tr>\n",
       "      <th>154</th>\n",
       "      <td>4</td>\n",
       "      <td>0.051306</td>\n",
       "    </tr>\n",
       "    <tr>\n",
       "      <th>185</th>\n",
       "      <td>5</td>\n",
       "      <td>0.039716</td>\n",
       "    </tr>\n",
       "    <tr>\n",
       "      <th>216</th>\n",
       "      <td>6</td>\n",
       "      <td>0.047193</td>\n",
       "    </tr>\n",
       "    <tr>\n",
       "      <th>247</th>\n",
       "      <td>7</td>\n",
       "      <td>0.053845</td>\n",
       "    </tr>\n",
       "    <tr>\n",
       "      <th>278</th>\n",
       "      <td>8</td>\n",
       "      <td>0.039609</td>\n",
       "    </tr>\n",
       "    <tr>\n",
       "      <th>309</th>\n",
       "      <td>9</td>\n",
       "      <td>0.044245</td>\n",
       "    </tr>\n",
       "    <tr>\n",
       "      <th>340</th>\n",
       "      <td>10</td>\n",
       "      <td>0.054068</td>\n",
       "    </tr>\n",
       "    <tr>\n",
       "      <th>371</th>\n",
       "      <td>11</td>\n",
       "      <td>0.045615</td>\n",
       "    </tr>\n",
       "    <tr>\n",
       "      <th>402</th>\n",
       "      <td>12</td>\n",
       "      <td>0.043402</td>\n",
       "    </tr>\n",
       "    <tr>\n",
       "      <th>433</th>\n",
       "      <td>13</td>\n",
       "      <td>0.043197</td>\n",
       "    </tr>\n",
       "    <tr>\n",
       "      <th>464</th>\n",
       "      <td>14</td>\n",
       "      <td>0.042086</td>\n",
       "    </tr>\n",
       "  </tbody>\n",
       "</table>\n",
       "</div>"
      ],
      "text/plain": [
       "     epoch  val_loss\n",
       "30       0  0.066851\n",
       "61       1  0.048563\n",
       "92       2  0.044698\n",
       "123      3  0.045582\n",
       "154      4  0.051306\n",
       "185      5  0.039716\n",
       "216      6  0.047193\n",
       "247      7  0.053845\n",
       "278      8  0.039609\n",
       "309      9  0.044245\n",
       "340     10  0.054068\n",
       "371     11  0.045615\n",
       "402     12  0.043402\n",
       "433     13  0.043197\n",
       "464     14  0.042086"
      ]
     },
     "execution_count": 91,
     "metadata": {},
     "output_type": "execute_result"
    }
   ],
   "source": [
    "validation_losses = training_loss_df[~training_loss_df['val_loss'].isna()][['epoch', 'val_loss']]\n",
    "validation_losses"
   ]
  },
  {
   "cell_type": "code",
   "execution_count": 93,
   "metadata": {},
   "outputs": [
    {
     "name": "stderr",
     "output_type": "stream",
     "text": [
      "/var/folders/vn/13psflc51r9239vr17gr6rxw0000gn/T/ipykernel_1946/1293444476.py:2: FutureWarning: \n",
      "\n",
      "The `ci` parameter is deprecated. Use `errorbar=None` for the same effect.\n",
      "\n",
      "  sns.lineplot(data=training_losses, x='epoch', y='training_loss', label='train', ci=None)\n"
     ]
    },
    {
     "data": {
      "text/plain": [
       "Text(0.5, 1.0, 'Training Loss Over Epoch')"
      ]
     },
     "execution_count": 93,
     "metadata": {},
     "output_type": "execute_result"
    },
    {
     "data": {
      "image/png": "[encoded data removed]",
      "text/plain": [
       "<Figure size 1200x700 with 1 Axes>"
      ]
     },
     "metadata": {},
     "output_type": "display_data"
    }
   ],
   "source": [
    "plt.figure(figsize=(12,7))\n",
    "sns.lineplot(data=training_losses, x='epoch', y='training_loss', label='train', ci=None)\n",
    "sns.lineplot(data=validation_losses, x='epoch', y='val_loss', label='val')\n",
    "plt.title('Training Loss Over Epoch')"
   ]
  },
  {
   "cell_type": "markdown",
   "metadata": {},
   "source": [
    "Given the above loss curves, it seems like stopping around 5 epochs may be best to avoid overfitting."
   ]
  },
  {
   "cell_type": "code",
   "execution_count": 160,
   "metadata": {},
   "outputs": [],
   "source": [
    "model = DigitClassifier(num_channels=1, num_classes=10)"
   ]
  },
  {
   "cell_type": "code",
   "execution_count": 127,
   "metadata": {},
   "outputs": [
    {
     "name": "stderr",
     "output_type": "stream",
     "text": [
      "GPU available: True (mps), used: True\n",
      "TPU available: False, using: 0 TPU cores\n",
      "IPU available: False, using: 0 IPUs\n",
      "HPU available: False, using: 0 HPUs\n",
      "\n",
      "  | Name          | Type                      | Params\n",
      "------------------------------------------------------------\n",
      "0 | conv1         | Conv2d                    | 320   \n",
      "1 | pool          | MaxPool2d                 | 0     \n",
      "2 | conv2         | Conv2d                    | 15.6 K\n",
      "3 | fc1           | Linear                    | 317 K \n",
      "4 | fc2           | Linear                    | 10.2 K\n",
      "5 | fc3           | Linear                    | 850   \n",
      "6 | loss_function | CrossEntropyLoss          | 0     \n",
      "7 | accuracy      | MulticlassAccuracy        | 0     \n",
      "8 | f1_score      | MulticlassF1Score         | 0     \n",
      "9 | confusion_mat | MulticlassConfusionMatrix | 0     \n",
      "------------------------------------------------------------\n",
      "344 K     Trainable params\n",
      "0         Non-trainable params\n",
      "344 K     Total params\n",
      "1.378     Total estimated model params size (MB)\n"
     ]
    },
    {
     "name": "stdout",
     "output_type": "stream",
     "text": [
      "Sanity Checking: |          | 0/? [00:00<?, ?it/s]"
     ]
    },
    {
     "name": "stderr",
     "output_type": "stream",
     "text": [
      "/Users/ryantenbarge/.pyenv/versions/3.10.6/envs/pytorch_lightning/lib/python3.10/site-packages/lightning/pytorch/trainer/connectors/data_connector.py:436: Consider setting `persistent_workers=True` in 'val_dataloader' to speed up the dataloader worker initialization.\n"
     ]
    },
    {
     "name": "stdout",
     "output_type": "stream",
     "text": [
      "                                                                           \r"
     ]
    },
    {
     "name": "stderr",
     "output_type": "stream",
     "text": [
      "/Users/ryantenbarge/.pyenv/versions/3.10.6/envs/pytorch_lightning/lib/python3.10/site-packages/lightning/pytorch/trainer/connectors/data_connector.py:436: Consider setting `persistent_workers=True` in 'train_dataloader' to speed up the dataloader worker initialization.\n"
     ]
    },
    {
     "name": "stdout",
     "output_type": "stream",
     "text": [
      "Epoch 4: 100%|██████████| 1500/1500 [00:32<00:00, 46.44it/s, v_num=9, training_loss_step=0.0187, train_accuracy_step=1.000, train_f1_score_step=1.000, val_loss=0.0379, val_accuracy=0.990, val_f1_score=0.990, training_loss_epoch=0.0217, train_accuracy_epoch=0.993, train_f1_score_epoch=0.993]  "
     ]
    },
    {
     "name": "stderr",
     "output_type": "stream",
     "text": [
      "`Trainer.fit` stopped: `max_epochs=5` reached.\n"
     ]
    },
    {
     "name": "stdout",
     "output_type": "stream",
     "text": [
      "Epoch 4: 100%|██████████| 1500/1500 [00:32<00:00, 46.42it/s, v_num=9, training_loss_step=0.0187, train_accuracy_step=1.000, train_f1_score_step=1.000, val_loss=0.0379, val_accuracy=0.990, val_f1_score=0.990, training_loss_epoch=0.0217, train_accuracy_epoch=0.993, train_f1_score_epoch=0.993]\n"
     ]
    }
   ],
   "source": [
    "trainer = L.Trainer(accelerator='mps', min_epochs=1, max_epochs=5, check_val_every_n_epoch=1)\n",
    "trainer.fit(model, train_dataloaders=train_loader, val_dataloaders=validation_loader)"
   ]
  },
  {
   "cell_type": "markdown",
   "metadata": {},
   "source": [
    "# Loading in Model from Checkpoint"
   ]
  },
  {
   "cell_type": "code",
   "execution_count": 147,
   "metadata": {},
   "outputs": [],
   "source": [
    "checkpoint_path = '/Users/ryantenbarge/code/playground/pytorch_lightning_practice/lightning_logs/version_9/checkpoints/epoch=4-step=7500.ckpt'"
   ]
  },
  {
   "cell_type": "code",
   "execution_count": 168,
   "metadata": {},
   "outputs": [],
   "source": [
    "model = DigitClassifier.load_from_checkpoint(checkpoint_path=checkpoint_path,\n",
    "                                             num_channels=1, num_classes=10)"
   ]
  },
  {
   "cell_type": "markdown",
   "metadata": {},
   "source": [
    "# Evaluate the Model on Test Set"
   ]
  },
  {
   "cell_type": "code",
   "execution_count": 162,
   "metadata": {},
   "outputs": [
    {
     "name": "stderr",
     "output_type": "stream",
     "text": [
      "/Users/ryantenbarge/.pyenv/versions/3.10.6/envs/pytorch_lightning/lib/python3.10/site-packages/lightning/pytorch/trainer/connectors/data_connector.py:492: Your `test_dataloader`'s sampler has shuffling enabled, it is strongly recommended that you turn shuffling off for val/test dataloaders.\n",
      "/Users/ryantenbarge/.pyenv/versions/3.10.6/envs/pytorch_lightning/lib/python3.10/site-packages/lightning/pytorch/trainer/connectors/data_connector.py:436: Consider setting `persistent_workers=True` in 'test_dataloader' to speed up the dataloader worker initialization.\n"
     ]
    },
    {
     "name": "stdout",
     "output_type": "stream",
     "text": [
      "Testing: |          | 0/? [01:18<?, ?it/s]\n",
      "Testing: |          | 188/? [00:04<00:00, 42.78it/s]\n",
      "────────────────────────────────────────────────────────────────────────────────────────────────────────────────────────\n",
      "       Test metric             DataLoader 0\n",
      "────────────────────────────────────────────────────────────────────────────────────────────────────────────────────────\n",
      "   test_accuracy_epoch      0.9858333468437195\n",
      "   test_f1_score_epoch      0.9858333468437195\n",
      "     test_loss_epoch       0.051036182790994644\n",
      "────────────────────────────────────────────────────────────────────────────────────────────────────────────────────────\n"
     ]
    },
    {
     "data": {
      "text/plain": [
       "[{'test_loss_epoch': 0.051036182790994644,\n",
       "  'test_accuracy_epoch': 0.9858333468437195,\n",
       "  'test_f1_score_epoch': 0.9858333468437195}]"
      ]
     },
     "execution_count": 162,
     "metadata": {},
     "output_type": "execute_result"
    }
   ],
   "source": [
    "results = trainer.test(model=model, dataloaders=test_loader)\n",
    "results"
   ]
  },
  {
   "cell_type": "code",
   "execution_count": 209,
   "metadata": {},
   "outputs": [
    {
     "name": "stdout",
     "output_type": "stream",
     "text": [
      "Predicting DataLoader 0: 100%|██████████| 188/188 [00:00<00:00, 225.16it/s]\n"
     ]
    },
    {
     "data": {
      "text/plain": [
       "list"
      ]
     },
     "execution_count": 209,
     "metadata": {},
     "output_type": "execute_result"
    }
   ],
   "source": [
    "preds = trainer.predict(model=model, dataloaders=test_loader)\n",
    "type(preds)"
   ]
  },
  {
   "cell_type": "code",
   "execution_count": 210,
   "metadata": {},
   "outputs": [],
   "source": [
    "preds = [tensor.tolist() for tensor in preds]"
   ]
  },
  {
   "cell_type": "code",
   "execution_count": 211,
   "metadata": {},
   "outputs": [
    {
     "data": {
      "text/plain": [
       "(6000,)"
      ]
     },
     "execution_count": 211,
     "metadata": {},
     "output_type": "execute_result"
    }
   ],
   "source": [
    "preds = np.array([item for lst in preds for item in lst])\n",
    "preds.shape"
   ]
  },
  {
   "cell_type": "code",
   "execution_count": 212,
   "metadata": {},
   "outputs": [
    {
     "data": {
      "text/plain": [
       "(6000,)"
      ]
     },
     "execution_count": 212,
     "metadata": {},
     "output_type": "execute_result"
    }
   ],
   "source": [
    "targets = [label for feature, label in test]\n",
    "targets = np.array(targets)\n",
    "targets.shape"
   ]
  }
 ],
 "metadata": {
  "kernelspec": {
   "display_name": "pytorch_lightning",
   "language": "python",
   "name": "python3"
  },
  "language_info": {
   "codemirror_mode": {
    "name": "ipython",
    "version": 3
   },
   "file_extension": ".py",
   "mimetype": "text/x-python",
   "name": "python",
   "nbconvert_exporter": "python",
   "pygments_lexer": "ipython3",
   "version": "3.10.6"
  }
 },
 "nbformat": 4,
 "nbformat_minor": 2
}
